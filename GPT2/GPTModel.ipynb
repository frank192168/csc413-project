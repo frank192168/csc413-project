{
  "metadata": {
    "colab": {
      "provenance": [],
      "gpuType": "T4"
    },
    "kernelspec": {
      "name": "python3",
      "display_name": "Python 3",
      "language": "python"
    },
    "language_info": {
      "name": "python",
      "version": "3.10.13",
      "mimetype": "text/x-python",
      "codemirror_mode": {
        "name": "ipython",
        "version": 3
      },
      "pygments_lexer": "ipython3",
      "nbconvert_exporter": "python",
      "file_extension": ".py"
    },
    "accelerator": "GPU",
    "kaggle": {
      "accelerator": "gpu",
      "dataSources": [
        {
          "sourceId": 8120436,
          "sourceType": "datasetVersion",
          "datasetId": 4798178
        }
      ],
      "dockerImageVersionId": 30683,
      "isInternetEnabled": true,
      "language": "python",
      "sourceType": "notebook",
      "isGpuEnabled": true
    }
  },
  "nbformat_minor": 0,
  "nbformat": 4,
  "cells": [
    {
      "cell_type": "code",
      "source": [
        "from google.colab import drive\n",
        "drive.mount('/content/drive')"
      ],
      "metadata": {
        "id": "qQQwHQK8B0BZ"
      },
      "execution_count": null,
      "outputs": []
    },
    {
      "cell_type": "code",
      "source": [
        "import numpy as np\n",
        "import csv\n",
        "import torch\n",
        "import torch.nn as nn\n",
        "from torch.utils.data import Dataset, DataLoader\n",
        "from transformers import GPT2Model, GPT2Tokenizer, AdamW"
      ],
      "metadata": {
        "id": "3RMWAhK_Ds-A",
        "execution": {
          "iopub.status.busy": "2024-04-15T20:55:04.434340Z",
          "iopub.execute_input": "2024-04-15T20:55:04.434669Z",
          "iopub.status.idle": "2024-04-15T20:55:10.755725Z",
          "shell.execute_reply.started": "2024-04-15T20:55:04.434643Z",
          "shell.execute_reply": "2024-04-15T20:55:10.754766Z"
        },
        "trusted": true
      },
      "execution_count": null,
      "outputs": []
    },
    {
      "cell_type": "code",
      "source": [
        "with open('/kaggle/input/project/2021_residential_description.csv', newline='') as csvfile:\n",
        "    reader = csv.reader(csvfile)\n",
        "    next(reader)\n",
        "    data_2021 = [row for row in reader]\n",
        "\n",
        "with open('/kaggle/input/project/2022_residential_description.csv', newline='') as csvfile:\n",
        "    reader = csv.reader(csvfile)\n",
        "    next(reader)\n",
        "    data_2022 = [row for row in reader]\n",
        "\n",
        "data_2021 = np.array(data_2021).astype(str)\n",
        "data_2022 = np.array(data_2022).astype(str)"
      ],
      "metadata": {
        "id": "4yNh44DKDv-V",
        "execution": {
          "iopub.status.busy": "2024-04-15T20:55:14.444666Z",
          "iopub.execute_input": "2024-04-15T20:55:14.445614Z",
          "iopub.status.idle": "2024-04-15T20:55:20.186055Z",
          "shell.execute_reply.started": "2024-04-15T20:55:14.445578Z",
          "shell.execute_reply": "2024-04-15T20:55:20.185246Z"
        },
        "trusted": true
      },
      "execution_count": null,
      "outputs": []
    },
    {
      "cell_type": "code",
      "source": [
        "concat_col_2021 = np.array([f\"{row[0]} {row[1]} The sold price is \" for row in data_2021])\n",
        "concat_col_2022 = np.array([f\"{row[0]} {row[1]} The sold price is \" for row in data_2022])\n",
        "data_all = np.concatenate((concat_col_2021, concat_col_2022))\n",
        "target_all = np.concatenate((np.round(data_2021[:, 2].astype(float)/100000), np.round(data_2022[:, 2].astype(float)/100000)))"
      ],
      "metadata": {
        "id": "sqfyU4mEL4-p",
        "execution": {
          "iopub.status.busy": "2024-04-15T20:55:23.361056Z",
          "iopub.execute_input": "2024-04-15T20:55:23.361869Z",
          "iopub.status.idle": "2024-04-15T20:55:26.015057Z",
          "shell.execute_reply.started": "2024-04-15T20:55:23.361839Z",
          "shell.execute_reply": "2024-04-15T20:55:26.014241Z"
        },
        "trusted": true
      },
      "execution_count": null,
      "outputs": []
    },
    {
      "cell_type": "code",
      "source": [
        "tokenizer = GPT2Tokenizer.from_pretrained(\"gpt2\")\n",
        "tokenizer.add_special_tokens({'pad_token': '[PAD]'})\n",
        "\n",
        "class ResiDataset(Dataset):\n",
        "  def __init__(self, sentences, target, tokenizer):\n",
        "    self.sentences = sentences\n",
        "    self.target = target\n",
        "    self.tokenizer = tokenizer\n",
        "\n",
        "  def __len__(self):\n",
        "    return len(self.sentences)\n",
        "\n",
        "  def __getitem__(self, idx):\n",
        "    encoding = self.tokenizer.encode_plus(self.sentences[idx], add_special_tokens=True, max_length=256, padding='max_length', pad_to_max_length=True,\n",
        "                        return_attention_mask=True, truncation=True, return_tensors='pt')\n",
        "    input = encoding['input_ids'].squeeze()\n",
        "    attention_mask = encoding['attention_mask'].squeeze()\n",
        "    target = torch.tensor(self.target[idx], dtype=torch.long)\n",
        "    return {'input_ids': input, 'attention_mask': attention_mask, 'target': target}"
      ],
      "metadata": {
        "id": "qb7HX9liRgsy",
        "execution": {
          "iopub.status.busy": "2024-04-15T20:55:29.727435Z",
          "iopub.execute_input": "2024-04-15T20:55:29.728164Z",
          "iopub.status.idle": "2024-04-15T20:55:31.205977Z",
          "shell.execute_reply.started": "2024-04-15T20:55:29.728132Z",
          "shell.execute_reply": "2024-04-15T20:55:31.205181Z"
        },
        "trusted": true
      },
      "execution_count": null,
      "outputs": []
    },
    {
      "cell_type": "code",
      "source": [
        "dataset_len = len(data_all)\n",
        "train_len = int(0.7 * dataset_len)\n",
        "val_len = int(0.9 * dataset_len)\n",
        "train_data = ResiDataset(data_all[:train_len], target_all[:train_len], tokenizer)\n",
        "val_data = ResiDataset(data_all[train_len:val_len], target_all[train_len:val_len], tokenizer)\n",
        "test_data = ResiDataset(data_all[val_len:], target_all[val_len:], tokenizer)\n",
        "\n",
        "num_classes = int(torch.max(torch.tensor(target_all)) + 1)\n",
        "\n",
        "train_loader = DataLoader(train_data, batch_size=32, shuffle=True)\n",
        "val_loader = DataLoader(val_data, batch_size=32, shuffle=True)\n",
        "test_loader = DataLoader(test_data, batch_size=32, shuffle=True)"
      ],
      "metadata": {
        "id": "Iw2q13dPrGZL",
        "execution": {
          "iopub.status.busy": "2024-04-15T20:55:34.495583Z",
          "iopub.execute_input": "2024-04-15T20:55:34.495914Z",
          "iopub.status.idle": "2024-04-15T20:55:34.547529Z",
          "shell.execute_reply.started": "2024-04-15T20:55:34.495889Z",
          "shell.execute_reply": "2024-04-15T20:55:34.546740Z"
        },
        "trusted": true
      },
      "execution_count": null,
      "outputs": []
    },
    {
      "cell_type": "code",
      "source": [
        "gpt2 = GPT2Model.from_pretrained(\"gpt2\")\n",
        "new_vocab_size = gpt2.config.vocab_size + 1 ## for <pad>\n",
        "new_embed = nn.Embedding(new_vocab_size, gpt2.config.hidden_size)\n",
        "new_embed.weight.data[:gpt2.config.vocab_size, :] = gpt2.wte.weight.data\n",
        "gpt2.set_input_embeddings(new_embed)\n",
        "class GPTModel(nn.Module):\n",
        "  def __init__(self, num_classes, gpt2):\n",
        "    super(GPTModel, self).__init__()\n",
        "    self.gpt_model = gpt2\n",
        "    self.fc = nn.Linear(gpt2.config.hidden_size, num_classes)\n",
        "\n",
        "  def forward(self, input_ids, attention_mask):\n",
        "    gpt_out = self.gpt_model(input_ids=input_ids, attention_mask=attention_mask)\n",
        "    pooled_output_state = gpt_out.last_hidden_state.mean(dim=1)\n",
        "    return self.fc(pooled_output_state)"
      ],
      "metadata": {
        "id": "MPr3LYMpu2_A",
        "execution": {
          "iopub.status.busy": "2024-04-15T20:55:37.635021Z",
          "iopub.execute_input": "2024-04-15T20:55:37.635400Z",
          "iopub.status.idle": "2024-04-15T20:55:40.939730Z",
          "shell.execute_reply.started": "2024-04-15T20:55:37.635368Z",
          "shell.execute_reply": "2024-04-15T20:55:40.938708Z"
        },
        "trusted": true
      },
      "execution_count": null,
      "outputs": []
    },
    {
      "cell_type": "code",
      "source": [
        "def train(model, train_loader, creterion, device, optimizer):\n",
        "  model.train()\n",
        "  loss_sum = 0.0\n",
        "  correct = 0\n",
        "  total = 0\n",
        "  for data in train_loader:\n",
        "    input = data['input_ids'].to(device)\n",
        "    attention_mask = data['attention_mask'].to(device)\n",
        "    target = data['target'].to(device)\n",
        "\n",
        "    optimizer.zero_grad()\n",
        "    output = model(input_ids=input, attention_mask=attention_mask)\n",
        "    loss = creterion(output, target)\n",
        "    loss.backward()\n",
        "    optimizer.step()\n",
        "    loss_sum += loss.item()\n",
        "\n",
        "    pred = torch.max(output, dim=1)[1]\n",
        "    total += target.size(0)\n",
        "    correct += (pred == target).sum().item()\n",
        "  avg_loss = loss_sum / len(train_loader)\n",
        "  acc = correct / total\n",
        "  return avg_loss, acc\n",
        "\n",
        "def evaluate(model, data_loader, creterion, device):\n",
        "  model.eval()\n",
        "  loss_sum = 0.0\n",
        "  correct = 0\n",
        "  total = 0\n",
        "  with torch.no_grad():\n",
        "    for data in data_loader:\n",
        "      input = data[\"input_ids\"].to(device)\n",
        "      attention_mask = data[\"attention_mask\"].to(device)\n",
        "      target = data[\"target\"].to(device)\n",
        "\n",
        "\n",
        "      output = model(input_ids=input, attention_mask=attention_mask)\n",
        "      loss = creterion(output, target)\n",
        "      loss_sum += loss.item()\n",
        "\n",
        "      pred = torch.max(output, dim=1)[1]\n",
        "      total += target.size(0)\n",
        "      correct += (pred == target).sum().item()\n",
        "  avg_loss = loss_sum / len(data_loader)\n",
        "  acc = correct / total\n",
        "  return avg_loss, acc"
      ],
      "metadata": {
        "id": "uynGDoMq0S9T",
        "execution": {
          "iopub.status.busy": "2024-04-15T20:55:43.079270Z",
          "iopub.execute_input": "2024-04-15T20:55:43.079642Z",
          "iopub.status.idle": "2024-04-15T20:55:43.091205Z",
          "shell.execute_reply.started": "2024-04-15T20:55:43.079610Z",
          "shell.execute_reply": "2024-04-15T20:55:43.090192Z"
        },
        "trusted": true
      },
      "execution_count": null,
      "outputs": []
    },
    {
      "cell_type": "code",
      "source": [
        "model = GPTModel(num_classes=num_classes, gpt2=gpt2)"
      ],
      "metadata": {
        "execution": {
          "iopub.status.busy": "2024-04-15T20:55:48.012439Z",
          "iopub.execute_input": "2024-04-15T20:55:48.012804Z",
          "iopub.status.idle": "2024-04-15T20:55:48.025262Z",
          "shell.execute_reply.started": "2024-04-15T20:55:48.012773Z",
          "shell.execute_reply": "2024-04-15T20:55:48.024318Z"
        },
        "trusted": true,
        "id": "XLFYgwzjCNeY"
      },
      "execution_count": null,
      "outputs": []
    },
    {
      "cell_type": "code",
      "source": [
        "lr = 1e-3\n",
        "epoch = 5\n",
        "creterion = nn.CrossEntropyLoss()\n",
        "optimizer = AdamW(model.parameters(), lr=lr)\n",
        "\n",
        "device = torch.device(\"cuda\" if torch.cuda.is_available() else \"cpu\")\n",
        "model.to(device)\n",
        "for i in range(epoch):\n",
        "  train_loss, train_acc = train(model, train_loader, creterion, device, optimizer)\n",
        "  val_loss, val_acc = evaluate(model, val_loader, creterion, device)\n",
        "  print(f\"Epoch {i+1}/{epoch}: Train Loss: {train_loss:.4f}, Train Accuracy: {train_acc:.4f}, Val Loss: {val_loss:.4f}, Val Accuracy: {val_acc:.4f}\")"
      ],
      "metadata": {
        "id": "LdewceiIcc7c",
        "execution": {
          "iopub.status.busy": "2024-04-15T20:55:54.928549Z",
          "iopub.execute_input": "2024-04-15T20:55:54.929366Z",
          "iopub.status.idle": "2024-04-16T01:30:40.410816Z",
          "shell.execute_reply.started": "2024-04-15T20:55:54.929331Z",
          "shell.execute_reply": "2024-04-16T01:30:40.409874Z"
        },
        "trusted": true
      },
      "execution_count": null,
      "outputs": []
    },
    {
      "cell_type": "code",
      "source": [
        "test_loss, test_acc = evaluate(model, test_loader, creterion, device)\n",
        "print(f\"Test Accuracy: {test_acc:.4f}\")"
      ],
      "metadata": {
        "execution": {
          "iopub.status.busy": "2024-04-16T05:49:12.835632Z",
          "iopub.execute_input": "2024-04-16T05:49:12.836298Z",
          "iopub.status.idle": "2024-04-16T05:51:51.645602Z",
          "shell.execute_reply.started": "2024-04-16T05:49:12.836266Z",
          "shell.execute_reply": "2024-04-16T05:51:51.644656Z"
        },
        "trusted": true,
        "id": "yg-GrWvTCNeY"
      },
      "execution_count": null,
      "outputs": []
    },
    {
      "cell_type": "code",
      "source": [
        "torch.save(model.state_dict(), '/kaggle/working/GPTModel2')"
      ],
      "metadata": {
        "execution": {
          "iopub.status.busy": "2024-04-16T05:41:44.027434Z",
          "iopub.execute_input": "2024-04-16T05:41:44.028299Z",
          "iopub.status.idle": "2024-04-16T05:41:44.752585Z",
          "shell.execute_reply.started": "2024-04-16T05:41:44.028263Z",
          "shell.execute_reply": "2024-04-16T05:41:44.751802Z"
        },
        "trusted": true,
        "id": "47cDssT4CNeZ"
      },
      "execution_count": null,
      "outputs": []
    }
  ]
}
